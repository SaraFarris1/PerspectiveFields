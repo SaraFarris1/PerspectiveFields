{
 "cells": [
  {
   "cell_type": "code",
   "execution_count": 1,
   "id": "6d84e6e5-804a-4d1c-a3a9-89cd9cfc151f",
   "metadata": {},
   "outputs": [
    {
     "name": "stderr",
     "output_type": "stream",
     "text": [
      "/home/jinlinyi/.pyenv/versions/anaconda3-2022.10spdrdf/envs/perspective/lib/python3.9/site-packages/tqdm/auto.py:21: TqdmWarning: IProgress not found. Please update jupyter and ipywidgets. See https://ipywidgets.readthedocs.io/en/stable/user_install.html\n",
      "  from .autonotebook import tqdm as notebook_tqdm\n",
      "/home/jinlinyi/.pyenv/versions/anaconda3-2022.10spdrdf/envs/perspective/lib/python3.9/site-packages/mmcv/__init__.py:20: UserWarning: On January 1, 2023, MMCV will release v2.0.0, in which it will remove components related to the training process and add a data transformation module. In addition, it will rename the package names mmcv to mmcv-lite and mmcv-full to mmcv. See https://github.com/open-mmlab/mmcv/blob/master/docs/en/compatibility.md for more details.\n",
      "  warnings.warn(\n"
     ]
    }
   ],
   "source": [
    "import argparse\n",
    "import numpy as np\n",
    "import os\n",
    "import cv2\n",
    "import tqdm\n",
    "import torch\n",
    "import pickle\n",
    "import copy\n",
    "\n",
    "from detectron2.config import get_cfg\n",
    "from detectron2.data.detection_utils import read_image\n",
    "from detectron2.utils.logger import setup_logger\n",
    "\n",
    "import perspective2d.modeling  # noqa\n",
    "from perspective2d.utils.predictor import VisualizationDemo\n",
    "from perspective2d.config import get_perspective2d_cfg_defaults\n",
    "from perspective2d.utils import draw_perspective_fields, draw_from_r_p_f_cx_cy\n",
    "from perspective2d.utils.panocam import PanoCam\n",
    "import matplotlib.pyplot as plt"
   ]
  },
  {
   "cell_type": "code",
   "execution_count": 2,
   "id": "8705bc56-6b57-4b0c-bf59-cf0844cae9d0",
   "metadata": {},
   "outputs": [],
   "source": [
    "MODEL_ID = 'paramnet_gsv_rpfpp' # 'paramnet_gsv_rpfpp'"
   ]
  },
  {
   "cell_type": "code",
   "execution_count": 3,
   "id": "47cccce4-9679-4a19-988d-16ac17c14ab5",
   "metadata": {},
   "outputs": [],
   "source": [
    "model_zoo = {\n",
    "    # trained on GSV dataset, predicts Perspective Fields + camera parameters (roll, pitch, fov, principal point)\n",
    "    'paramnet_gsv_rpfpp': {\n",
    "        'weights': ['https://www.dropbox.com/s/ufdadxigewakzlz/paramnet_gsv_rpfpp.pth'],\n",
    "        'opts': ['MODEL.WEIGHTS', 'models/paramnet_gsv_rpfpp.pth'],\n",
    "        'config_file': 'models/paramnet_gsv_rpfpp.yaml',\n",
    "        'param': True,\n",
    "    },\n",
    "    # trained on GSV dataset, predicts Perspective Fields + camera parameters (roll, pitch, fov), assuming centered principal point\n",
    "    'paramnet_gsv_rpf': {\n",
    "        'weights': ['https://www.dropbox.com/s/g6xwbgnkggapyeu/paramnet_gsv_rpf.pth'],\n",
    "        'opts': ['MODEL.WEIGHTS', 'models/paramnet_gsv_rpf.pth'],\n",
    "        'config_file': 'models/paramnet_gsv_rpf.yaml',\n",
    "        'param': True,\n",
    "    },\n",
    "}\n"
   ]
  },
  {
   "cell_type": "code",
   "execution_count": null,
   "id": "eaff945f-bf34-41e5-bd12-354b5d6a22df",
   "metadata": {},
   "outputs": [],
   "source": [
    "\n",
    "\n",
    "assert MODEL_ID in model_zoo.keys()\n",
    "\n",
    "for html in model_zoo[MODEL_ID]['weights']:\n",
    "    if not os.path.exists(os.path.join('models', html.split('/')[-1])):\n",
    "        !wget -P models/ {html}\n",
    "def setup_cfg(args):\n",
    "    cfgs = []\n",
    "    configs = args['config_file'].split('#')\n",
    "    weights_id = args['opts'].index('MODEL.WEIGHTS') + 1\n",
    "    weights = args['opts'][weights_id].split('#')\n",
    "    for i, conf in enumerate(configs):\n",
    "        if len(conf) != 0:\n",
    "            tmp_opts = copy.deepcopy(args['opts'])\n",
    "            tmp_opts[weights_id] = weights[i]\n",
    "            cfg = get_cfg()\n",
    "            get_perspective2d_cfg_defaults(cfg)\n",
    "            cfg.merge_from_file(conf)\n",
    "            cfg.merge_from_list(tmp_opts)\n",
    "            cfg.freeze()\n",
    "            cfgs.append(cfg)\n",
    "    return cfgs\n",
    "\n",
    "perspective_cfg_list = setup_cfg(model_zoo[MODEL_ID])\n",
    "demo_perspective = VisualizationDemo(cfg_list=perspective_cfg_list)"
   ]
  },
  {
   "cell_type": "markdown",
   "id": "64b0a7c3-c1f4-48e5-a407-fcd001269aba",
   "metadata": {},
   "source": [
    "## Input image"
   ]
  },
  {
   "cell_type": "code",
   "execution_count": null,
   "id": "8129b064-8c1d-4004-9198-f9c1701eec77",
   "metadata": {},
   "outputs": [],
   "source": [
    "path = '../assets/imgs/cityscape.jpg'\n",
    "img = read_image(path, format=\"BGR\")\n",
    "plt.imshow(img[:,:,::-1])\n",
    "plt.title(\"input\")\n",
    "plt.show()"
   ]
  },
  {
   "cell_type": "markdown",
   "id": "3f974c71-8011-49af-a831-b7eedbaf6e0c",
   "metadata": {},
   "source": [
    "## Inference PerspectiveNet + ParamNet (See Paper Fig 3)"
   ]
  },
  {
   "cell_type": "code",
   "execution_count": null,
   "id": "e0d11e2c-6c98-413d-bde2-fef0e20dd3ba",
   "metadata": {},
   "outputs": [],
   "source": [
    "pred = demo_perspective.run_on_image(img)\n",
    "if 'pred_general_vfov' not in pred.keys():\n",
    "    pred['pred_general_vfov'] = pred['pred_vfov']\n",
    "if 'pred_rel_cx' not in pred.keys():\n",
    "    pred['pred_rel_cx'] = torch.FloatTensor([0])\n",
    "if 'pred_rel_cy' not in pred.keys():\n",
    "    pred['pred_rel_cy'] = torch.FloatTensor([0])\n",
    "    \n",
    "r_p_f_rad = np.radians(\n",
    "    [\n",
    "        pred['pred_roll'].cpu().item(),\n",
    "        pred['pred_pitch'].cpu().item(),\n",
    "        pred['pred_general_vfov'].cpu().item(),\n",
    "    ]\n",
    ")\n",
    "cx_cy = [\n",
    "    pred['pred_rel_cx'].cpu().item(),\n",
    "    pred['pred_rel_cy'].cpu().item(),\n",
    "]\n"
   ]
  },
  {
   "cell_type": "markdown",
   "id": "8965a0f7-82cc-409e-9d81-4f3746360be1",
   "metadata": {},
   "source": [
    "## Visualize predictions"
   ]
  },
  {
   "cell_type": "code",
   "execution_count": null,
   "id": "b7410145-6443-45b4-9aed-55c5e1f663e9",
   "metadata": {},
   "outputs": [],
   "source": [
    "print(pred)\n",
    "predicted_param_vis = draw_from_r_p_f_cx_cy(\n",
    "    img[:,:,::-1], \n",
    "    *r_p_f_rad,\n",
    "    *cx_cy,\n",
    "    'rad',\n",
    "    up_color=(0,1,0),\n",
    ")\n",
    "plt.imshow(predicted_param_vis)\n",
    "plt.title(\"From Predicted Parameters\")\n",
    "plt.show()"
   ]
  },
  {
   "cell_type": "code",
   "execution_count": null,
   "id": "32574882-a357-42ec-bdcc-027dc540a401",
   "metadata": {},
   "outputs": [],
   "source": []
  }
 ],
 "metadata": {
  "kernelspec": {
   "display_name": "perspective",
   "language": "python",
   "name": "perspective"
  },
  "language_info": {
   "codemirror_mode": {
    "name": "ipython",
    "version": 3
   },
   "file_extension": ".py",
   "mimetype": "text/x-python",
   "name": "python",
   "nbconvert_exporter": "python",
   "pygments_lexer": "ipython3",
   "version": "3.9.16"
  }
 },
 "nbformat": 4,
 "nbformat_minor": 5
}
